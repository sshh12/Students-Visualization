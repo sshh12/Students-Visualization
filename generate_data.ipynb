{
 "cells": [
  {
   "cell_type": "code",
   "execution_count": null,
   "metadata": {},
   "outputs": [],
   "source": [
    "## Imports\n",
    "\n",
    "from db import DB\n",
    "\n",
    "from sklearn.manifold import TSNE\n",
    "import numpy as np\n",
    "\n",
    "import hashlib\n",
    "import random"
   ]
  },
  {
   "cell_type": "code",
   "execution_count": null,
   "metadata": {
    "collapsed": true
   },
   "outputs": [],
   "source": [
    "## Connect to Database\n",
    "\n",
    "db = DB(username=\"\",\n",
    "        password=\"\",\n",
    "        hostname=\"\",\n",
    "        port=\"\",\n",
    "        dbtype=\"\",\n",
    "        dbname=\"\")"
   ]
  },
  {
   "cell_type": "code",
   "execution_count": null,
   "metadata": {
    "collapsed": true
   },
   "outputs": [],
   "source": [
    "## Categories\n",
    "\n",
    "class_types = { # Keywords used to determine class topic\n",
    "    \"socialstudies\": [\"hist\",\"gov\",\"macro eco\",\"street law\",\"human geog\",\"geog\",\"wd area\",\"economics\"],\n",
    "    \"engineering\": [\"manufac\",\" manfc\",\"princ flo des\",\"auto tech\",\"pr soln\",\"arch \", \"interior design\"],\n",
    "    \"art\": [\" orch\",\"art\",\"band\",\"animation\",\"theater\",\"bnd \",\"orchest\",\"aud vid\",\"chrl \",\"music\",\"choir\",\"a/v\",\"av pro\",\"voc ens\",\"symph\", \"th. pro\", \" strings\"],\n",
    "    \"english\":[\"journl \",\"journal\",\"eng \",\"creative write\", \"english\",\"debate\"],\n",
    "    \"science\":[\"chemsitry\",\"phys \", \"chemistry\",\"phy/chem\",\"web tech\",\"tch sys\",\"livestock\",\"electr\",\"vet med\",\"wldlif fish eco\",\"prof comm\",\"sci\",\"robot\",\"physics\",\"antmy\",\"physlgy\",\"biology\",\"sociology\",\"animal\",\"psychology\", \"chem \",\"bio \",\"medical\",\"prin ag fd nt r\",\"food tech\",\"com prog\"],\n",
    "    \"math\":[\"geom\",\"cal-\",\"bank financ\",\"calc\",\"geometry\",\"pre cal\",\"algebra\",\"statistics\",\"alg \",\"accounting\"],\n",
    "    \"language\":[\"span iv\",\"spanish\",\"french\",\"latin\",\"german\"],\n",
    "    \"sports\":[\"ath \",\"athletics\",\"phys ed\",\"athlet\",\"cheerleading\",\"dance\",\"sports\"],\n",
    "    \"other\":[\"sec invest\",\"prin of human\",\" esl\",\"bim \", \"life nutr well\",\"ipc ics\",\"car port\",\"180\",\"rotc\",\"spt ent mk\",\"stu asst\",\"child \",\"intro to cos\",\"rest mgmt\",\"rdi 180\",\"ed trng\",\" bus\", \"bus \",\" mgt\",\"pace\",\"money\",\"p a l i\",\"health\",\"act/sat\",\"fash des\",\"child devlp\",\"fnd pers fit\",\"teen leadership\",\"interpers std\",\"inst ed trg\",\"hum svc\"]\n",
    "}\n",
    "\n",
    "def get_class_type(name):\n",
    "    name = name.lower().strip()\n",
    "\n",
    "    for subject, kwords in class_types.iteritems():\n",
    "        for word in kwords:\n",
    "            if word in name:\n",
    "                return subject\n",
    "\n",
    "    return \"other\""
   ]
  },
  {
   "cell_type": "code",
   "execution_count": null,
   "metadata": {
    "collapsed": true
   },
   "outputs": [],
   "source": [
    "## Collect Data\n",
    "\n",
    "data = {}\n",
    "\n",
    "for index, row in db.tables.grades.all().iterrows():\n",
    "    if row.user_id not in data:\n",
    "        dic = {\n",
    "            'name':'?',\n",
    "            'gender':'?',\n",
    "            'language':'?',\n",
    "            'gradelevel':'?',\n",
    "            \n",
    "            'grades':{\n",
    "                'engineering':[],\n",
    "                'science':[],\n",
    "                'math':[],\n",
    "                'english':[],\n",
    "                'language':[],\n",
    "                'art':[],\n",
    "                'sports':[],\n",
    "                'socialstudies':[],\n",
    "                'other':[]\n",
    "            },\n",
    "\n",
    "            'classes':{\n",
    "                'engineering':[],\n",
    "                'science':[],\n",
    "                'math':[],\n",
    "                'english':[],\n",
    "                'language':[],\n",
    "                'art':[],\n",
    "                'sports':[],\n",
    "                'socialstudies':[],\n",
    "                'other':[]\n",
    "            }\n",
    "        }\n",
    "        data.update({row.user_id:dic})\n",
    "        \n",
    "    ctype = get_class_type(row.subject)\n",
    "    data[row.user_id][\"grades\"][ctype].append(row.grade)\n",
    "    if not row.subject in data[row.user_id][\"classes\"][ctype]:\n",
    "        data[row.user_id][\"classes\"][ctype].append(row.subject)\n",
    "\n",
    "for index, row in db.tables.demo.all().iterrows():\n",
    "    \n",
    "    try:\n",
    "        data[row.user_id][\"name\"] = row.name\n",
    "        data[row.user_id][\"gender\"] = row.gender\n",
    "        data[row.user_id][\"language\"] = row.language\n",
    "        data[row.user_id][\"gradelevel\"] = int(row.gradelevel)\n",
    "    except Exception as e:\n",
    "        print(e)"
   ]
  },
  {
   "cell_type": "code",
   "execution_count": null,
   "metadata": {
    "collapsed": true
   },
   "outputs": [],
   "source": [
    "## Analyze\n",
    "\n",
    "X = []\n",
    "labels = []\n",
    "\n",
    "def avg(nums):\n",
    "    return round(sum(nums) / float(len(nums))) if len(nums) > 0 else 0\n",
    "\n",
    "def avg_nonzero(nums):\n",
    "    return avg(filter(lambda n : n > 0, nums))\n",
    "\n",
    "ids = data.keys()\n",
    "random.shuffle(ids)\n",
    "\n",
    "for id_ in ids:\n",
    "    \n",
    "    features = []\n",
    "    features.append(avg_nonzero(data[id_][\"grades\"][\"science\"]))\n",
    "    features.append(avg_nonzero(data[id_][\"grades\"][\"math\"]))\n",
    "    features.append(avg_nonzero(data[id_][\"grades\"][\"english\"]))\n",
    "    features.append(avg_nonzero(data[id_][\"grades\"][\"language\"]))\n",
    "    features.append(avg_nonzero(data[id_][\"grades\"][\"art\"]))\n",
    "    features.append(avg_nonzero(data[id_][\"grades\"][\"sports\"]))\n",
    "    features.append(avg_nonzero(data[id_][\"grades\"][\"socialstudies\"]))\n",
    "    features.append(avg_nonzero(data[id_][\"grades\"][\"engineering\"]))\n",
    "    X.append(features)\n",
    "\n",
    "    # Hashing used to for privacy (although bruteforcing easily possible b/c ids are short)\n",
    "    h = hashlib.sha256() \n",
    "    h.update(id_.replace(\"s\", \"\"))\n",
    "\n",
    "    label = []\n",
    "    label.append(h.hexdigest())\n",
    "    label.append(data[id_][\"gender\"])\n",
    "    label.append(data[id_][\"language\"])\n",
    "    label.append(data[id_][\"gradelevel\"])\n",
    "    labels.append(label)\n",
    "\n",
    "X_array = np.array(X)\n",
    "\n",
    "alg = TSNE(n_components=3, learning_rate=100, perplexity=35, n_iter=8000)\n",
    "\n",
    "new_X = alg.fit_transform(X_array)"
   ]
  },
  {
   "cell_type": "code",
   "execution_count": null,
   "metadata": {
    "collapsed": true
   },
   "outputs": [],
   "source": [
    "## Save\n",
    "\n",
    "with open('data.js', 'w') as f:\n",
    "\n",
    "    f.write(\"\\n// AUTO GENERATED FILE\\n\\n\")\n",
    "    \n",
    "    f.write(\"var points = [\\n\")\n",
    "    for x in new_X:\n",
    "        f.write(repr(list(x)) + \",\\n\")\n",
    "    f.write(\"];\\n\\n\")\n",
    "\n",
    "    f.write(\"var labels = [\\n\")\n",
    "    for l in labels:\n",
    "        f.write(repr(l) + \",\\n\")\n",
    "    f.write(\"];\\n\\n\")\n",
    "\n",
    "    f.write(\"var features = [\\n\")\n",
    "    for row in X:\n",
    "        f.write(repr(row) + \",\\n\")\n",
    "    f.write(\"];\\n\\n\")\n"
   ]
  }
 ],
 "metadata": {
  "kernelspec": {
   "display_name": "Python 3",
   "language": "python",
   "name": "python3"
  },
  "language_info": {
   "codemirror_mode": {
    "name": "ipython",
    "version": 3
   },
   "file_extension": ".py",
   "mimetype": "text/x-python",
   "name": "python",
   "nbconvert_exporter": "python",
   "pygments_lexer": "ipython3",
   "version": "3.6.1"
  }
 },
 "nbformat": 4,
 "nbformat_minor": 2
}
